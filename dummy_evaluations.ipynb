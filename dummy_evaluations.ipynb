{
 "cells": [
  {
   "cell_type": "markdown",
   "metadata": {},
   "source": [
    "# This just creates dummy data"
   ]
  },
  {
   "cell_type": "code",
   "execution_count": 6,
   "metadata": {},
   "outputs": [],
   "source": [
    "from config.config import Config\n",
    "from evaluation.evaluation import Evaluation\n",
    "from exporter.EvalExporter import EvalExporter\n",
    "import random"
   ]
  },
  {
   "cell_type": "code",
   "execution_count": 7,
   "metadata": {},
   "outputs": [],
   "source": [
    "TARGET_USER=\"placeholder\"\n",
    "TARGET_PROJECT=\"placeholder\"\n",
    "#TARGET_PROJECT=\"placeholder\"\n",
    "TARGET_TITLE = \"placeholder\"\n",
    "TARGET_FRAMEWORK_NAME=\"placeholder\"\n",
    "N_EVALS = 5"
   ]
  },
  {
   "cell_type": "code",
   "execution_count": 8,
   "metadata": {},
   "outputs": [],
   "source": [
    "### Configuration User and Project\n",
    "Config.set_user_id(TARGET_USER)\n",
    "Config.set_project_id(TARGET_PROJECT)"
   ]
  },
  {
   "cell_type": "code",
   "execution_count": 9,
   "metadata": {},
   "outputs": [
    {
     "data": {
      "text/plain": [
       "15"
      ]
     },
     "execution_count": 9,
     "metadata": {},
     "output_type": "execute_result"
    }
   ],
   "source": [
    "random.randint(1,15)"
   ]
  },
  {
   "cell_type": "code",
   "execution_count": 10,
   "metadata": {},
   "outputs": [
    {
     "name": "stdout",
     "output_type": "stream",
     "text": [
      "Evaluation with ID 78d56a53-c624-4f29-a3da-46b8ec6c2dab stored in EvalExporter\n",
      "Successfully exported 78d56a53-c624-4f29-a3da-46b8ec6c2dab - Evaluation 0\n",
      "Successfully exported 1 evaluations.\n",
      "Evaluation with ID bdf16b94-9950-4855-84af-20abf7a18ddf stored in EvalExporter\n",
      "Successfully exported bdf16b94-9950-4855-84af-20abf7a18ddf - Evaluation 1\n",
      "Successfully exported 1 evaluations.\n",
      "Evaluation with ID 5abaacb4-ba1e-40d7-b54f-637a7ca0d4ea stored in EvalExporter\n",
      "Successfully exported 5abaacb4-ba1e-40d7-b54f-637a7ca0d4ea - Evaluation 2\n",
      "Successfully exported 1 evaluations.\n",
      "Evaluation with ID 6be52305-1d2d-48f7-9149-fc866d139c37 stored in EvalExporter\n",
      "Successfully exported 6be52305-1d2d-48f7-9149-fc866d139c37 - Evaluation 3\n",
      "Successfully exported 1 evaluations.\n",
      "Evaluation with ID 1f4e558a-6ffb-4d97-8e6c-4876921846b0 stored in EvalExporter\n",
      "Successfully exported 1f4e558a-6ffb-4d97-8e6c-4876921846b0 - Evaluation 4\n",
      "Successfully exported 1 evaluations.\n"
     ]
    }
   ],
   "source": [
    "for i in range(N_EVALS):\n",
    "    exporter = EvalExporter(title=f\"Evaluation {i}\")\n",
    "    eval = Evaluation(framework=TARGET_FRAMEWORK_NAME,name=f\"Evaluation {i}\")\n",
    "    data={'total_score': round(random.uniform(0,1),2), 'runtime': round(random.uniform(25,125),2), 'total_tests':random.randint(1,15)}\n",
    "    eval.data = data\n",
    "    exporter.add_eval(eval=eval)\n",
    "    exporter.export()\n"
   ]
  }
 ],
 "metadata": {
  "kernelspec": {
   "display_name": "monitoring",
   "language": "python",
   "name": "python3"
  },
  "language_info": {
   "codemirror_mode": {
    "name": "ipython",
    "version": 3
   },
   "file_extension": ".py",
   "mimetype": "text/x-python",
   "name": "python",
   "nbconvert_exporter": "python",
   "pygments_lexer": "ipython3",
   "version": "3.1.-1"
  }
 },
 "nbformat": 4,
 "nbformat_minor": 2
}
