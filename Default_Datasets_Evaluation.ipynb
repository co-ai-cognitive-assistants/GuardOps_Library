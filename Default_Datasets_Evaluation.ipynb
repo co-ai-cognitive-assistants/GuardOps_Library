{
 "cells": [
  {
   "cell_type": "markdown",
   "metadata": {},
   "source": [
    "# Import a dataset provided by the Library and use the SUMEvalFramework"
   ]
  },
  {
   "cell_type": "code",
   "execution_count": 2,
   "metadata": {},
   "outputs": [],
   "source": [
    "from config.config import Config\n",
    "from coai_datasets.dataset_manager import DatasetManager\n",
    "from pprint import pprint\n",
    "import pandas as pd\n",
    "from models.openai_model import OpenAIModel\n",
    "from evaluation.SUMEvalFramework import SUMEvalFramework\n",
    "from coai_datasets.standard.mlsum_dataset import MLSUMDataset"
   ]
  },
  {
   "cell_type": "code",
   "execution_count": 4,
   "metadata": {},
   "outputs": [],
   "source": [
    "### Configuration User and Project\n",
    "Config.set_user_id(\"placeholder\")\n",
    "\n",
    "Config.set_project_id(\"placeholder\")\n"
   ]
  },
  {
   "cell_type": "code",
   "execution_count": null,
   "metadata": {},
   "outputs": [],
   "source": [
    "#set up a model\n",
    "model = OpenAIModel(\"placeholder\", \"placeholder\")"
   ]
  },
  {
   "cell_type": "code",
   "execution_count": 5,
   "metadata": {},
   "outputs": [
    {
     "name": "stdout",
     "output_type": "stream",
     "text": [
      "\n",
      "===============Custom Datasets===============\n",
      "\n",
      "[{'dataset_id': '331d506e-d7d0-40e9-b2e0-2a67d626af84',\n",
      "  'description': 'Demo Description',\n",
      "  'name': 'Demo Dataset',\n",
      "  'shared': None},\n",
      " {'dataset_id': '197fb33e-bfb8-4277-8a5c-236799b68483',\n",
      "  'description': 'qwewq',\n",
      "  'name': 'BrandadDataset',\n",
      "  'shared': None}]\n",
      "\n",
      "===============Default Datasets===============\n",
      "\n",
      "{'mlsum': <coai_datasets.standard.mlsum_dataset.MLSUMDataset object at 0x7fbb403d2740>,\n",
      " 'mmlu': <coai_datasets.standard.mmlu_dataset.MMLUDataset object at 0x7fbb405652a0>}\n"
     ]
    }
   ],
   "source": [
    "#list the provided datasets\n",
    "dm = DatasetManager()\n",
    "dm.list_datasets()"
   ]
  },
  {
   "cell_type": "code",
   "execution_count": 8,
   "metadata": {},
   "outputs": [
    {
     "data": {
      "text/html": [
       "<div>\n",
       "<style scoped>\n",
       "    .dataframe tbody tr th:only-of-type {\n",
       "        vertical-align: middle;\n",
       "    }\n",
       "\n",
       "    .dataframe tbody tr th {\n",
       "        vertical-align: top;\n",
       "    }\n",
       "\n",
       "    .dataframe thead th {\n",
       "        text-align: right;\n",
       "    }\n",
       "</style>\n",
       "<table border=\"1\" class=\"dataframe\">\n",
       "  <thead>\n",
       "    <tr style=\"text-align: right;\">\n",
       "      <th></th>\n",
       "      <th>text</th>\n",
       "      <th>summary</th>\n",
       "      <th>topic</th>\n",
       "      <th>url</th>\n",
       "      <th>title</th>\n",
       "      <th>date</th>\n",
       "    </tr>\n",
       "  </thead>\n",
       "  <tbody>\n",
       "    <tr>\n",
       "      <th>0</th>\n",
       "      <td>Die Blockade vor Lampedusa ist durchbrochen, d...</td>\n",
       "      <td>Carola Rackete ist auf Lampedusa festgenommen ...</td>\n",
       "      <td>politik</td>\n",
       "      <td>https://www.sueddeutsche.de/politik/italien-ka...</td>\n",
       "      <td>Sea Watch - Carola Rackete drohen mehrere Jahr...</td>\n",
       "      <td>00/06/2019</td>\n",
       "    </tr>\n",
       "    <tr>\n",
       "      <th>1</th>\n",
       "      <td>Carola Rackete hat gemacht, was selbstverständ...</td>\n",
       "      <td>Carola Rackete hat gemacht, was selbstverständ...</td>\n",
       "      <td>politik</td>\n",
       "      <td>https://www.sueddeutsche.de/politik/festnahme-...</td>\n",
       "      <td>Rackete braucht keinen Heldenstatus, aber Frei...</td>\n",
       "      <td>00/06/2019</td>\n",
       "    </tr>\n",
       "    <tr>\n",
       "      <th>2</th>\n",
       "      <td>Die sächsische CDU bereitet sich beim Landespa...</td>\n",
       "      <td>Die sächsische CDU bereitet sich beim Landespa...</td>\n",
       "      <td>politik</td>\n",
       "      <td>https://www.sueddeutsche.de/politik/cdu-sachse...</td>\n",
       "      <td>Sachsen-CDU: Kretschmer gegen Rechts</td>\n",
       "      <td>00/06/2019</td>\n",
       "    </tr>\n",
       "  </tbody>\n",
       "</table>\n",
       "</div>"
      ],
      "text/plain": [
       "                                                text  \\\n",
       "0  Die Blockade vor Lampedusa ist durchbrochen, d...   \n",
       "1  Carola Rackete hat gemacht, was selbstverständ...   \n",
       "2  Die sächsische CDU bereitet sich beim Landespa...   \n",
       "\n",
       "                                             summary    topic  \\\n",
       "0  Carola Rackete ist auf Lampedusa festgenommen ...  politik   \n",
       "1  Carola Rackete hat gemacht, was selbstverständ...  politik   \n",
       "2  Die sächsische CDU bereitet sich beim Landespa...  politik   \n",
       "\n",
       "                                                 url  \\\n",
       "0  https://www.sueddeutsche.de/politik/italien-ka...   \n",
       "1  https://www.sueddeutsche.de/politik/festnahme-...   \n",
       "2  https://www.sueddeutsche.de/politik/cdu-sachse...   \n",
       "\n",
       "                                               title        date  \n",
       "0  Sea Watch - Carola Rackete drohen mehrere Jahr...  00/06/2019  \n",
       "1  Rackete braucht keinen Heldenstatus, aber Frei...  00/06/2019  \n",
       "2               Sachsen-CDU: Kretschmer gegen Rechts  00/06/2019  "
      ]
     },
     "execution_count": 8,
     "metadata": {},
     "output_type": "execute_result"
    }
   ],
   "source": [
    "#load a dataset - two ways work\n",
    "\n",
    "#Use the dataset manager\n",
    "#dataset = dm.load_default_dataset(\"mlsum\") \n",
    "\n",
    "#Create an instance directly\n",
    "dataset = MLSUMDataset()\n",
    "dataset.load(nb_items=3)\n",
    "dataset.data"
   ]
  },
  {
   "cell_type": "code",
   "execution_count": null,
   "metadata": {},
   "outputs": [],
   "source": [
    "#initialize a framework (see BaseEvaluationFramework.py for structure)\n",
    "evaluation_framework = SUMEvalFramework(device=\"cuda\")"
   ]
  },
  {
   "cell_type": "code",
   "execution_count": null,
   "metadata": {},
   "outputs": [],
   "source": [
    "#use the framework to create a new evaluation\n",
    "eval = evaluation_framework.evaluate(model = model, dataset=dataset.data, eval_name=\"Sum1 Evaluation\")"
   ]
  },
  {
   "cell_type": "code",
   "execution_count": null,
   "metadata": {},
   "outputs": [],
   "source": [
    "#export the evaluation using an exporter (no extra implementation needed)\n",
    "from exporter.EvalExporter import EvalExporter\n",
    "exporter = EvalExporter(title=\"Test Summarization Eval 1\")\n",
    "exporter.add_eval(eval = eval)\n",
    "exporter.export()\n"
   ]
  }
 ],
 "metadata": {
  "kernelspec": {
   "display_name": "monitoring",
   "language": "python",
   "name": "python3"
  },
  "language_info": {
   "codemirror_mode": {
    "name": "ipython",
    "version": 3
   },
   "file_extension": ".py",
   "mimetype": "text/x-python",
   "name": "python",
   "nbconvert_exporter": "python",
   "pygments_lexer": "ipython3",
   "version": "3.10.13"
  }
 },
 "nbformat": 4,
 "nbformat_minor": 2
}
