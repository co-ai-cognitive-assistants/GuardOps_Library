{
 "cells": [
  {
   "cell_type": "markdown",
   "metadata": {},
   "source": [
    "Arize phoenix changes old versions randomly, in order for this to work, you need to left ctrl+click on Tracer. Temp fix until either arize-phoenix get their act together or own tracing is entirely written without other libraries"
   ]
  },
  {
   "cell_type": "code",
   "execution_count": null,
   "metadata": {},
   "outputs": [],
   "source": [
    "from tracing.tracer import Tracer\n",
    "from config.config import Config\n",
    "from langchain_openai import ChatOpenAI\n",
    "\n",
    "\n",
    "#Set up the config\n",
    "Config.set_project_id(\"placeholder\")\n",
    "Config.set_tracing_key(\"placeholder\")\n",
    "Config.set_user_id(\"placeholder\")\n",
    "#Create the tracer with the config - see comment above for \"has no attribute _get_execution_order fix\"\n",
    "tracer = Tracer(config=Config)\n",
    "#Create your llm as normal\n",
    "llm = ChatOpenAI(model=\"gpt-3.5-turbo\", api_key=\"placeholder\",callbacks=[tracer])\n",
    "#Call it with the tracer as a callback\n",
    "llm.invoke(\"Was ist 1+1\")\n",
    "\n"
   ]
  }
 ],
 "metadata": {
  "kernelspec": {
   "display_name": "monitoring",
   "language": "python",
   "name": "python3"
  },
  "language_info": {
   "codemirror_mode": {
    "name": "ipython",
    "version": 3
   },
   "file_extension": ".py",
   "mimetype": "text/x-python",
   "name": "python",
   "nbconvert_exporter": "python",
   "pygments_lexer": "ipython3",
   "version": "3.10.13"
  }
 },
 "nbformat": 4,
 "nbformat_minor": 2
}
