{
 "cells": [
  {
   "cell_type": "markdown",
   "metadata": {},
   "source": [
    "# Import a dataset created in coai"
   ]
  },
  {
   "cell_type": "code",
   "execution_count": 1,
   "metadata": {},
   "outputs": [],
   "source": [
    "from evaluation.metrics import Rouge1Metric\n",
    "from config.config import Config\n",
    "from coai_datasets.dataset_manager import DatasetManager\n",
    "from models.openai_model import OpenAIModel\n",
    "from evaluation.MMLUEvaluationFramework import MMLUFramework\n",
    "from pprint import pprint\n",
    "import pandas as pd\n",
    "\n",
    "\n",
    "from config.config import Config\n",
    "Config.set_user_id(\"placeholder\")\n",
    "Config.set_project_id(\"placeholder\")\n",
    "\n",
    "dataset_manager = DatasetManager()\n"
   ]
  },
  {
   "cell_type": "code",
   "execution_count": 2,
   "metadata": {},
   "outputs": [
    {
     "data": {
      "text/plain": [
       "[{'dataset_id': '331d506e-d7d0-40e9-b2e0-2a67d626af84',\n",
       "  'name': 'Demo Dataset',\n",
       "  'description': 'Demo Description',\n",
       "  'shared': None},\n",
       " {'dataset_id': '197fb33e-bfb8-4277-8a5c-236799b68483',\n",
       "  'name': 'BrandadDataset',\n",
       "  'description': 'qwewq',\n",
       "  'shared': None}]"
      ]
     },
     "execution_count": 2,
     "metadata": {},
     "output_type": "execute_result"
    }
   ],
   "source": [
    "dataset_manager.datasets"
   ]
  },
  {
   "cell_type": "code",
   "execution_count": 4,
   "metadata": {},
   "outputs": [
    {
     "data": {
      "text/html": [
       "<div>\n",
       "<style scoped>\n",
       "    .dataframe tbody tr th:only-of-type {\n",
       "        vertical-align: middle;\n",
       "    }\n",
       "\n",
       "    .dataframe tbody tr th {\n",
       "        vertical-align: top;\n",
       "    }\n",
       "\n",
       "    .dataframe thead th {\n",
       "        text-align: right;\n",
       "    }\n",
       "</style>\n",
       "<table border=\"1\" class=\"dataframe\">\n",
       "  <thead>\n",
       "    <tr style=\"text-align: right;\">\n",
       "      <th></th>\n",
       "      <th>prompt</th>\n",
       "      <th>response</th>\n",
       "    </tr>\n",
       "  </thead>\n",
       "  <tbody>\n",
       "    <tr>\n",
       "      <th>0</th>\n",
       "      <td>Who are you?</td>\n",
       "      <td>I am an AI digital assistant designed to provi...</td>\n",
       "    </tr>\n",
       "    <tr>\n",
       "      <th>1</th>\n",
       "      <td>Test</td>\n",
       "      <td>Hello! How can I assist you today?</td>\n",
       "    </tr>\n",
       "  </tbody>\n",
       "</table>\n",
       "</div>"
      ],
      "text/plain": [
       "         prompt                                           response\n",
       "0  Who are you?  I am an AI digital assistant designed to provi...\n",
       "1          Test                 Hello! How can I assist you today?"
      ]
     },
     "execution_count": 4,
     "metadata": {},
     "output_type": "execute_result"
    }
   ],
   "source": [
    "dataset = dataset_manager.load_custom_dataset(dataset_id=\"placeholder\")\n",
    "dataset.data"
   ]
  },
  {
   "cell_type": "code",
   "execution_count": 9,
   "metadata": {},
   "outputs": [],
   "source": [
    "from evaluation.MMLUEvaluationFramework import MMLUFramework\n",
    "\n",
    "evaluation_framework = MMLUFramework()"
   ]
  },
  {
   "cell_type": "code",
   "execution_count": 10,
   "metadata": {},
   "outputs": [],
   "source": [
    "from models.openai_model import OpenAIModel\n",
    "model = OpenAIModel(model_name=\"gpt-3.5-turbo-1106\",api_key=\"placeholder\")"
   ]
  },
  {
   "cell_type": "code",
   "execution_count": 11,
   "metadata": {},
   "outputs": [
    {
     "name": "stderr",
     "output_type": "stream",
     "text": [
      "Evaluating: 100%|██████████| 2/2 [00:05<00:00,  2.57s/it]\n"
     ]
    }
   ],
   "source": [
    "eval = evaluation_framework.evaluate(model = model, eval_name=\"First test\")"
   ]
  },
  {
   "cell_type": "code",
   "execution_count": null,
   "metadata": {},
   "outputs": [
    {
     "data": {
      "text/plain": [
       "ID: 17e6ae25-2c0f-4fd3-8b49-e846994a03a4 - Name: First test - Framework: MMLUFramework - Data: {'Score': 0.0}"
      ]
     },
     "execution_count": 8,
     "metadata": {},
     "output_type": "execute_result"
    }
   ],
   "source": [
    "eval"
   ]
  },
  {
   "cell_type": "code",
   "execution_count": null,
   "metadata": {},
   "outputs": [
    {
     "name": "stdout",
     "output_type": "stream",
     "text": [
      "Evaluation with ID 17e6ae25-2c0f-4fd3-8b49-e846994a03a4 stored in EvalExporter\n",
      "[ID: 17e6ae25-2c0f-4fd3-8b49-e846994a03a4 - Name: First test - Framework: MMLUFramework - Data: {'Score': 0.0}]\n",
      "Emptied evaluation list\n",
      "Evaluation with ID 17e6ae25-2c0f-4fd3-8b49-e846994a03a4 stored in EvalExporter\n",
      "Evaluation with ID 17e6ae25-2c0f-4fd3-8b49-e846994a03a4 already exists in currently stored evaluations of the EvalExporter.\n",
      "[ID: 17e6ae25-2c0f-4fd3-8b49-e846994a03a4 - Name: First test - Framework: MMLUFramework - Data: {'Score': 0.0}]\n"
     ]
    }
   ],
   "source": [
    "from exporter.EvalExporter import EvalExporter\n",
    "exporter = EvalExporter(title=\"TestEval\")\n",
    "exporter.add_eval(eval=eval)\n",
    "print(exporter.evaluations)\n",
    "exporter.clear()\n",
    "exporter.add_eval(eval=eval)\n",
    "exporter.add_eval(eval=eval)\n",
    "print(exporter.evaluations)\n"
   ]
  },
  {
   "cell_type": "code",
   "execution_count": null,
   "metadata": {},
   "outputs": [
    {
     "data": {
      "text/plain": [
       "{'evaluations': [ID: 17e6ae25-2c0f-4fd3-8b49-e846994a03a4 - Name: First test - Framework: MMLUFramework - Data: {'Score': 0.0}],\n",
       " 'evaluation_title': 'TestEval',\n",
       " 'evaluations_id': 'd94540f0-19da-4705-aad4-5835963e730c'}"
      ]
     },
     "execution_count": 10,
     "metadata": {},
     "output_type": "execute_result"
    }
   ],
   "source": [
    "exporter.__dict__"
   ]
  },
  {
   "cell_type": "code",
   "execution_count": 11,
   "metadata": {},
   "outputs": [
    {
     "name": "stdout",
     "output_type": "stream",
     "text": [
      "Successfully exported 17e6ae25-2c0f-4fd3-8b49-e846994a03a4 - First test\n",
      "Successfully exported 0 evaluations.\n"
     ]
    }
   ],
   "source": [
    "exporter.export()"
   ]
  }
 ],
 "metadata": {
  "kernelspec": {
   "display_name": "monitoring",
   "language": "python",
   "name": "python3"
  },
  "language_info": {
   "codemirror_mode": {
    "name": "ipython",
    "version": 3
   },
   "file_extension": ".py",
   "mimetype": "text/x-python",
   "name": "python",
   "nbconvert_exporter": "python",
   "pygments_lexer": "ipython3",
   "version": "3.10.13"
  }
 },
 "nbformat": 4,
 "nbformat_minor": 2
}
